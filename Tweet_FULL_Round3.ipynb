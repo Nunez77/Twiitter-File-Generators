{
 "metadata": {
  "language_info": {
   "codemirror_mode": {
    "name": "ipython",
    "version": 3
   },
   "file_extension": ".py",
   "mimetype": "text/x-python",
   "name": "python",
   "nbconvert_exporter": "python",
   "pygments_lexer": "ipython3",
   "version": "3.8.8"
  },
  "orig_nbformat": 4,
  "kernelspec": {
   "name": "python3",
   "display_name": "Python 3.8.8 64-bit ('base': conda)"
  },
  "interpreter": {
   "hash": "5ce17d985355a66603c6a8d9df1da8712281176adfcc91eee6d0e664b498fe45"
  }
 },
 "nbformat": 4,
 "nbformat_minor": 2,
 "cells": [
  {
   "cell_type": "code",
   "execution_count": 10,
   "metadata": {},
   "outputs": [
    {
     "output_type": "stream",
     "name": "stdout",
     "text": [
      "Requirement already satisfied: tweepy in c:\\users\\prueba.000\\anaconda3\\lib\\site-packages (4.0.0a0)\nRequirement already satisfied: requests<3,>=2.11.1 in c:\\users\\prueba.000\\anaconda3\\lib\\site-packages (from tweepy) (2.25.1)\nRequirement already satisfied: requests-oauthlib<2,>=1.0.0 in c:\\users\\prueba.000\\anaconda3\\lib\\site-packages (from tweepy) (1.3.0)\nRequirement already satisfied: certifi>=2017.4.17 in c:\\users\\prueba.000\\anaconda3\\lib\\site-packages (from requests<3,>=2.11.1->tweepy) (2020.12.5)\nRequirement already satisfied: idna<3,>=2.5 in c:\\users\\prueba.000\\anaconda3\\lib\\site-packages (from requests<3,>=2.11.1->tweepy) (2.10)\nRequirement already satisfied: urllib3<1.27,>=1.21.1 in c:\\users\\prueba.000\\anaconda3\\lib\\site-packages (from requests<3,>=2.11.1->tweepy) (1.26.4)\nRequirement already satisfied: chardet<5,>=3.0.2 in c:\\users\\prueba.000\\anaconda3\\lib\\site-packages (from requests<3,>=2.11.1->tweepy) (4.0.0)\nRequirement already satisfied: oauthlib>=3.0.0 in c:\\users\\prueba.000\\anaconda3\\lib\\site-packages (from requests-oauthlib<2,>=1.0.0->tweepy) (3.1.1)\nNote: you may need to restart the kernel to use updated packages.\n"
     ]
    }
   ],
   "source": [
    "pip install tweepy"
   ]
  },
  {
   "cell_type": "code",
   "execution_count": 22,
   "metadata": {},
   "outputs": [],
   "source": [
    "# Dependencies\n",
    "from config import *\n",
    "import tweepy as tw\n",
    "import datetime\n",
    "import pandas as pd"
   ]
  },
  {
   "cell_type": "code",
   "execution_count": 3,
   "metadata": {},
   "outputs": [],
   "source": [
    "# Access\n",
    "auth = tweepy.OAuthHandler(consumer_key, consumer_secret)\n",
    "auth.set_access_token(access_token, access_secret)\n",
    "api = tweepy.API(auth,wait_on_rate_limit=True)"
   ]
  },
  {
   "cell_type": "code",
   "execution_count": 17,
   "metadata": {},
   "outputs": [],
   "source": [
    "# Parameters\n",
    "number_of_tweets = 10 # Number of tweets per keyword\n",
    "date_since = '202004160001' #yyyyMMddHHmm\n",
    "end_date = '202006171159' #yyyyMMddHHmm\n",
    "# For example, '201101012315' for January 1st, 11:15 pm 2011 UTC\n",
    "language = 'es' # Standard language code https://en.wikipedia.org/wiki/List_of_ISO_639-1_codes\n",
    "key_words = ['Netflix','Disney Plus','Amazon Prime', 'HBO' ]\n"
   ]
  },
  {
   "cell_type": "code",
   "execution_count": 18,
   "metadata": {},
   "outputs": [],
   "source": [
    "# Dev environment label robmirtest\n",
    "# API.search_full_archive(environment_name, query[, tag][, fromDate][, toDate][, maxResults][, next])\n",
    "# tweets = tweepy.Cursor(api.search_full_archive,environment_name='**ENV NAME FROM API**', query=search_words,fromDate=date_since_pro).items(numTweets)\n",
    "\n",
    "tweets_list = tw.Cursor(api.search_full_archive,\n",
    "    label='robmirtest', \n",
    "    query='Netflix',\n",
    "    maxResults=number_of_tweets, \n",
    "    fromDate=date_since, \n",
    "    toDate=end_date\n",
    "    ).items(number_of_tweets)"
   ]
  },
  {
   "cell_type": "code",
   "execution_count": 20,
   "metadata": {},
   "outputs": [
    {
     "output_type": "stream",
     "name": "stdout",
     "text": [
      "RT @SeriesBrasil: A 3ª e última temporada de THE RAIN tem data de estreia confirmada para dia 6 de agosto na Netflix. https://t.co/dykleEOy…\nRT @girlpowertbh: i still can’t believe netflix cast chris d’elia as the pedophile in season to of “you” like the literal IRONY\nRT @OH_mes2: Drama 'Blue Sky' which features BTS's world views and growth has started production\n\nThey are auditioning for cast members + w…\nRT @Kemdikbud_RI: #SahabatDikbud, Kemendikbud bekerja sama dengan @NetflixID akan menayangkan film-film dokumenter persembahan Netflix pada…\nse um dia a Netflix tirar b99 do catálogo eu vou ser a pessoa mais triste do mundo\nRT @ava: Beautiful. 👊🏾\nim still mad at netflix for removing pride and prejudice 2005\nRT @SeriesUpdateFR: La 3ème et dernière saison de #TheRain sortira le 6 août sur Netflix. https://t.co/RuILCADeHC\nRT @BilelTnm: Quand t’es sur netflix et qu’il y a plus le « épisode suivant »\n"
     ]
    }
   ],
   "source": [
    "output = []\n",
    "for tweet in tweets_list:\n",
    "    text = tweet._json[\"text\"]\n",
    "    print(text)\n",
    "    favourite_count = tweet.favorite_count\n",
    "    retweet_count = tweet.retweet_count\n",
    "    created_at = tweet.created_at\n",
    "    \n",
    "    line = {'text' : text, 'favourite_count' : favourite_count, 'retweet_count' :       retweet_count, 'created_at' : created_at}\n",
    "    output.append(line)"
   ]
  },
  {
   "cell_type": "code",
   "execution_count": 23,
   "metadata": {},
   "outputs": [],
   "source": [
    "df = pd.DataFrame(output)\n",
    "df.to_csv('output.csv')"
   ]
  },
  {
   "cell_type": "code",
   "execution_count": null,
   "metadata": {},
   "outputs": [],
   "source": []
  }
 ]
}