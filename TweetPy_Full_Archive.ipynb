{
 "cells": [
  {
   "cell_type": "code",
   "execution_count": 1,
   "metadata": {
    "id": "aIPh4EolI06Q"
   },
   "outputs": [
    {
     "name": "stdout",
     "output_type": "stream",
     "text": [
      "Requirement already satisfied: tweepy in c:\\users\\prueba.000\\anaconda3\\lib\\site-packages (3.10.0)Note: you may need to restart the kernel to use updated packages.\n",
      "Requirement already satisfied: requests[socks]>=2.11.1 in c:\\users\\prueba.000\\anaconda3\\lib\\site-packages (from tweepy) (2.25.1)\n",
      "Requirement already satisfied: six>=1.10.0 in c:\\users\\prueba.000\\anaconda3\\lib\\site-packages (from tweepy) (1.15.0)\n",
      "Requirement already satisfied: requests-oauthlib>=0.7.0 in c:\\users\\prueba.000\\anaconda3\\lib\\site-packages (from tweepy) (1.3.0)\n",
      "Requirement already satisfied: oauthlib>=3.0.0 in c:\\users\\prueba.000\\anaconda3\\lib\\site-packages (from requests-oauthlib>=0.7.0->tweepy) (3.1.1)\n",
      "Requirement already satisfied: urllib3<1.27,>=1.21.1 in c:\\users\\prueba.000\\anaconda3\\lib\\site-packages (from requests[socks]>=2.11.1->tweepy) (1.26.4)\n",
      "Requirement already satisfied: chardet<5,>=3.0.2 in c:\\users\\prueba.000\\anaconda3\\lib\\site-packages (from requests[socks]>=2.11.1->tweepy) (4.0.0)\n",
      "Requirement already satisfied: idna<3,>=2.5 in c:\\users\\prueba.000\\anaconda3\\lib\\site-packages (from requests[socks]>=2.11.1->tweepy) (2.10)\n",
      "Requirement already satisfied: certifi>=2017.4.17 in c:\\users\\prueba.000\\anaconda3\\lib\\site-packages (from requests[socks]>=2.11.1->tweepy) (2020.12.5)\n",
      "Requirement already satisfied: PySocks!=1.5.7,>=1.5.6 in c:\\users\\prueba.000\\anaconda3\\lib\\site-packages (from requests[socks]>=2.11.1->tweepy) (1.7.1)\n",
      "\n"
     ]
    }
   ],
   "source": [
    "pip install tweepy"
   ]
  },
  {
   "cell_type": "code",
   "execution_count": 2,
   "metadata": {},
   "outputs": [
    {
     "name": "stdout",
     "output_type": "stream",
     "text": [
      "Requirement already satisfied: psycopg2 in c:\\users\\prueba.000\\anaconda3\\lib\\site-packages (2.9.1)\n",
      "Note: you may need to restart the kernel to use updated packages.\n"
     ]
    }
   ],
   "source": [
    "pip install psycopg2"
   ]
  },
  {
   "cell_type": "code",
   "execution_count": 22,
   "metadata": {
    "id": "kMA2YnVA7VHF",
    "scrolled": true
   },
   "outputs": [],
   "source": [
    "# Dependencies and Setup\n",
    "import tweepy as tw\n",
    "from datetime import datetime,timedelta\n",
    "import csv\n",
    "import pandas as pd\n",
    "\n",
    "consumer_key = \"jCruB2URIpOgvSUtcDEHwawrl\"\n",
    "consumer_secret = \"qHr73xJuXdilVD3f2QS7mlpCtMnfb1lx5JnFROcKsmDMcjtu4j\"\n",
    "access_token = \"16157274-aHyDpy5SQ41HbzqwTZbMTV5Cyzebz4K3uttT9m6eB\"\n",
    "access_secret = \"vOmZ0suDKGloPVDcKhYnj1kr0K0yQXYgl2sdkhN87oYW1\""
   ]
  },
  {
   "cell_type": "code",
   "execution_count": 6,
   "metadata": {
    "id": "itJe-h1B7av7"
   },
   "outputs": [],
   "source": [
    "auth = tw.OAuthHandler(consumer_key, consumer_secret)\n",
    "auth.set_access_token(access_token, access_secret)\n",
    "\n",
    "api = tw.API(auth)"
   ]
  },
  {
   "cell_type": "code",
   "execution_count": 8,
   "metadata": {},
   "outputs": [],
   "source": [
    "number_of_tweets = 100\n",
    "date_since = '2020-04-16' #yyyy-mm-dd\n",
    "end_date = '2020-06-17' #yyyy-mm-dd\n",
    "language = 'es' # Standard language code https://en.wikipedia.org/wiki/List_of_ISO_639-1_codes"
   ]
  },
  {
   "cell_type": "code",
   "execution_count": 9,
   "metadata": {},
   "outputs": [],
   "source": [
    "key_words = ['Netflix','Disney Plus','Amazon Prime', 'HBO' ]"
   ]
  },
  {
   "cell_type": "markdown",
   "metadata": {
    "id": "ILAouvjGLM6m"
   },
   "source": [
    "**Getting tweets**"
   ]
  },
  {
   "cell_type": "code",
   "execution_count": 19,
   "metadata": {
    "id": "tHN738tICWWp"
   },
   "outputs": [],
   "source": [
    "# Define function to get the tweets\n",
    "# Dev environment label robmirtest\n",
    "# API.search_full_archive(environment_name, query[, tag][, fromDate][, toDate][, maxResults][, next])\n",
    "# tweets=tweepy.Cursor(api.search_full_archive,environment_name='**ENV NAME FROM API**', \n",
    "# query=search_words, fromDate=date_since_pro).items(numTweets)\n",
    "\n",
    "def get_tweets(search_words):\n",
    "    \n",
    "    tweets = tw.Cursor(api.search_full_archive,\n",
    "             environment_name='robmirtest',\n",
    "             query=f'keyword:{search_words} lang:es',\n",
    "             fromDate=date_since,\n",
    "             toDate=end_date,\n",
    "             maxResults=number_of_tweets\n",
    "             )\n",
    "    \n",
    "    tweet_list = []\n",
    "    print (tweets)\n",
    "    for tweet in tweets:\n",
    "      tweet_list.append([search_words[0],tweet.id, tweet.full_text, tweet.user.id, tweet.user.screen_name,tweet.created_at,\n",
    "                         tweet.favorite_count, tweet.retweet_count,tweet.user.verified,tweet.user.location,\n",
    "                         tweet.user.friends_count, tweet.user.followers_count])\n",
    "# Create dataframe\n",
    "    df = pd.DataFrame(tweet_list, columns=['key_word','id', 'tweet','user_id','user_name','date',\n",
    "                                           'like','retweet','verified','location',\n",
    "                                           'friends','followers'])\n",
    "    return df"
   ]
  },
  {
   "cell_type": "code",
   "execution_count": 37,
   "metadata": {},
   "outputs": [],
   "source": [
    "tweets=tw.Cursor(api.search_full_archive,environment_name='robmirtest', \n",
    "query='Netflix',maxResults=10).items(2)"
   ]
  },
  {
   "cell_type": "code",
   "execution_count": 38,
   "metadata": {},
   "outputs": [
    {
     "name": "stdout",
     "output_type": "stream",
     "text": [
      "Status(_api=<tweepy.api.API object at 0x00000172C98A1520>, _json={'created_at': 'Wed Aug 25 02:13:25 +0000 2021', 'id': 1430352585324703746, 'id_str': '1430352585324703746', 'text': 'RT @unGRACEfullll: so who is saving manifest? @netflix is it you???? #SaveManifest', 'source': '<a href=\"http://twitter.com/download/android\" rel=\"nofollow\">Twitter for Android</a>', 'truncated': False, 'in_reply_to_status_id': None, 'in_reply_to_status_id_str': None, 'in_reply_to_user_id': None, 'in_reply_to_user_id_str': None, 'in_reply_to_screen_name': None, 'user': {'id': 74599960, 'id_str': '74599960', 'name': 'Lari | Renew JATP | Save Manifest', 'screen_name': 'lahventura', 'location': None, 'url': None, 'description': '#SaveManifest #RenewJulieAndThePhantoms #KeepTheFaith', 'translator_type': 'none', 'protected': False, 'verified': False, 'followers_count': 110, 'friends_count': 608, 'listed_count': 1, 'favourites_count': 69953, 'statuses_count': 5554, 'created_at': 'Wed Sep 16 00:09:29 +0000 2009', 'utc_offset': None, 'time_zone': None, 'geo_enabled': False, 'lang': None, 'contributors_enabled': False, 'is_translator': False, 'profile_background_color': '642D8B', 'profile_background_image_url': 'http://abs.twimg.com/images/themes/theme10/bg.gif', 'profile_background_image_url_https': 'https://abs.twimg.com/images/themes/theme10/bg.gif', 'profile_background_tile': True, 'profile_link_color': 'FF0000', 'profile_sidebar_border_color': '65B0DA', 'profile_sidebar_fill_color': '7AC3EE', 'profile_text_color': '3D1957', 'profile_use_background_image': True, 'profile_image_url': 'http://pbs.twimg.com/profile_images/1426008873924759552/RuiPQCyq_normal.jpg', 'profile_image_url_https': 'https://pbs.twimg.com/profile_images/1426008873924759552/RuiPQCyq_normal.jpg', 'profile_banner_url': 'https://pbs.twimg.com/profile_banners/74599960/1628822046', 'default_profile': False, 'default_profile_image': False, 'following': None, 'follow_request_sent': None, 'notifications': None, 'withheld_in_countries': []}, 'geo': None, 'coordinates': None, 'place': None, 'contributors': None, 'retweeted_status': {'created_at': 'Tue Aug 24 20:43:09 +0000 2021', 'id': 1430269470782722061, 'id_str': '1430269470782722061', 'text': 'so who is saving manifest? @netflix is it you???? #SaveManifest', 'source': '<a href=\"http://twitter.com/download/android\" rel=\"nofollow\">Twitter for Android</a>', 'truncated': False, 'in_reply_to_status_id': None, 'in_reply_to_status_id_str': None, 'in_reply_to_user_id': None, 'in_reply_to_user_id_str': None, 'in_reply_to_screen_name': None, 'user': {'id': 343204852, 'id_str': '343204852', 'name': '𝓰𝓻𝓪𝓬𝓮', 'screen_name': 'unGRACEfullll', 'location': 'she/her', 'url': None, 'description': 'chinese gemini', 'translator_type': 'none', 'protected': False, 'verified': False, 'followers_count': 538, 'friends_count': 402, 'listed_count': 45, 'favourites_count': 105829, 'statuses_count': 23714, 'created_at': 'Wed Jul 27 06:28:17 +0000 2011', 'utc_offset': None, 'time_zone': None, 'geo_enabled': True, 'lang': None, 'contributors_enabled': False, 'is_translator': False, 'profile_background_color': 'C0DEED', 'profile_background_image_url': 'http://abs.twimg.com/images/themes/theme1/bg.png', 'profile_background_image_url_https': 'https://abs.twimg.com/images/themes/theme1/bg.png', 'profile_background_tile': False, 'profile_link_color': '0084B4', 'profile_sidebar_border_color': 'C0DEED', 'profile_sidebar_fill_color': 'DDEEF6', 'profile_text_color': '333333', 'profile_use_background_image': True, 'profile_image_url': 'http://pbs.twimg.com/profile_images/1396530555236360195/omiuR76j_normal.jpg', 'profile_image_url_https': 'https://pbs.twimg.com/profile_images/1396530555236360195/omiuR76j_normal.jpg', 'profile_banner_url': 'https://pbs.twimg.com/profile_banners/343204852/1621793851', 'default_profile': False, 'default_profile_image': False, 'following': None, 'follow_request_sent': None, 'notifications': None, 'withheld_in_countries': []}, 'geo': None, 'coordinates': None, 'place': None, 'contributors': None, 'is_quote_status': False, 'quote_count': 1, 'reply_count': 2, 'retweet_count': 6, 'favorite_count': 48, 'entities': {'hashtags': [{'text': 'SaveManifest', 'indices': [50, 63]}], 'urls': [], 'user_mentions': [{'screen_name': 'netflix', 'name': 'Netflix', 'id': 16573941, 'id_str': '16573941', 'indices': [27, 35]}], 'symbols': []}, 'favorited': False, 'retweeted': False, 'filter_level': 'low', 'lang': 'en'}, 'is_quote_status': False, 'quote_count': 0, 'reply_count': 0, 'retweet_count': 0, 'favorite_count': 0, 'entities': {'hashtags': [{'text': 'SaveManifest', 'indices': [69, 82]}], 'urls': [], 'user_mentions': [{'screen_name': 'unGRACEfullll', 'name': '𝓰𝓻𝓪𝓬𝓮', 'id': 343204852, 'id_str': '343204852', 'indices': [3, 17]}, {'screen_name': 'netflix', 'name': 'Netflix', 'id': 16573941, 'id_str': '16573941', 'indices': [46, 54]}], 'symbols': []}, 'favorited': False, 'retweeted': False, 'filter_level': 'low', 'lang': 'en', 'matching_rules': [{'tag': None}]}, created_at=datetime.datetime(2021, 8, 25, 2, 13, 25), id=1430352585324703746, id_str='1430352585324703746', text='RT @unGRACEfullll: so who is saving manifest? @netflix is it you???? #SaveManifest', source='Twitter for Android', source_url='http://twitter.com/download/android', truncated=False, in_reply_to_status_id=None, in_reply_to_status_id_str=None, in_reply_to_user_id=None, in_reply_to_user_id_str=None, in_reply_to_screen_name=None, author=User(_api=<tweepy.api.API object at 0x00000172C98A1520>, _json={'id': 74599960, 'id_str': '74599960', 'name': 'Lari | Renew JATP | Save Manifest', 'screen_name': 'lahventura', 'location': None, 'url': None, 'description': '#SaveManifest #RenewJulieAndThePhantoms #KeepTheFaith', 'translator_type': 'none', 'protected': False, 'verified': False, 'followers_count': 110, 'friends_count': 608, 'listed_count': 1, 'favourites_count': 69953, 'statuses_count': 5554, 'created_at': 'Wed Sep 16 00:09:29 +0000 2009', 'utc_offset': None, 'time_zone': None, 'geo_enabled': False, 'lang': None, 'contributors_enabled': False, 'is_translator': False, 'profile_background_color': '642D8B', 'profile_background_image_url': 'http://abs.twimg.com/images/themes/theme10/bg.gif', 'profile_background_image_url_https': 'https://abs.twimg.com/images/themes/theme10/bg.gif', 'profile_background_tile': True, 'profile_link_color': 'FF0000', 'profile_sidebar_border_color': '65B0DA', 'profile_sidebar_fill_color': '7AC3EE', 'profile_text_color': '3D1957', 'profile_use_background_image': True, 'profile_image_url': 'http://pbs.twimg.com/profile_images/1426008873924759552/RuiPQCyq_normal.jpg', 'profile_image_url_https': 'https://pbs.twimg.com/profile_images/1426008873924759552/RuiPQCyq_normal.jpg', 'profile_banner_url': 'https://pbs.twimg.com/profile_banners/74599960/1628822046', 'default_profile': False, 'default_profile_image': False, 'following': None, 'follow_request_sent': None, 'notifications': None, 'withheld_in_countries': []}, id=74599960, id_str='74599960', name='Lari | Renew JATP | Save Manifest', screen_name='lahventura', location=None, url=None, description='#SaveManifest #RenewJulieAndThePhantoms #KeepTheFaith', translator_type='none', protected=False, verified=False, followers_count=110, friends_count=608, listed_count=1, favourites_count=69953, statuses_count=5554, created_at=datetime.datetime(2009, 9, 16, 0, 9, 29), utc_offset=None, time_zone=None, geo_enabled=False, lang=None, contributors_enabled=False, is_translator=False, profile_background_color='642D8B', profile_background_image_url='http://abs.twimg.com/images/themes/theme10/bg.gif', profile_background_image_url_https='https://abs.twimg.com/images/themes/theme10/bg.gif', profile_background_tile=True, profile_link_color='FF0000', profile_sidebar_border_color='65B0DA', profile_sidebar_fill_color='7AC3EE', profile_text_color='3D1957', profile_use_background_image=True, profile_image_url='http://pbs.twimg.com/profile_images/1426008873924759552/RuiPQCyq_normal.jpg', profile_image_url_https='https://pbs.twimg.com/profile_images/1426008873924759552/RuiPQCyq_normal.jpg', profile_banner_url='https://pbs.twimg.com/profile_banners/74599960/1628822046', default_profile=False, default_profile_image=False, following=False, follow_request_sent=None, notifications=None, withheld_in_countries=[]), user=User(_api=<tweepy.api.API object at 0x00000172C98A1520>, _json={'id': 74599960, 'id_str': '74599960', 'name': 'Lari | Renew JATP | Save Manifest', 'screen_name': 'lahventura', 'location': None, 'url': None, 'description': '#SaveManifest #RenewJulieAndThePhantoms #KeepTheFaith', 'translator_type': 'none', 'protected': False, 'verified': False, 'followers_count': 110, 'friends_count': 608, 'listed_count': 1, 'favourites_count': 69953, 'statuses_count': 5554, 'created_at': 'Wed Sep 16 00:09:29 +0000 2009', 'utc_offset': None, 'time_zone': None, 'geo_enabled': False, 'lang': None, 'contributors_enabled': False, 'is_translator': False, 'profile_background_color': '642D8B', 'profile_background_image_url': 'http://abs.twimg.com/images/themes/theme10/bg.gif', 'profile_background_image_url_https': 'https://abs.twimg.com/images/themes/theme10/bg.gif', 'profile_background_tile': True, 'profile_link_color': 'FF0000', 'profile_sidebar_border_color': '65B0DA', 'profile_sidebar_fill_color': '7AC3EE', 'profile_text_color': '3D1957', 'profile_use_background_image': True, 'profile_image_url': 'http://pbs.twimg.com/profile_images/1426008873924759552/RuiPQCyq_normal.jpg', 'profile_image_url_https': 'https://pbs.twimg.com/profile_images/1426008873924759552/RuiPQCyq_normal.jpg', 'profile_banner_url': 'https://pbs.twimg.com/profile_banners/74599960/1628822046', 'default_profile': False, 'default_profile_image': False, 'following': None, 'follow_request_sent': None, 'notifications': None, 'withheld_in_countries': []}, id=74599960, id_str='74599960', name='Lari | Renew JATP | Save Manifest', screen_name='lahventura', location=None, url=None, description='#SaveManifest #RenewJulieAndThePhantoms #KeepTheFaith', translator_type='none', protected=False, verified=False, followers_count=110, friends_count=608, listed_count=1, favourites_count=69953, statuses_count=5554, created_at=datetime.datetime(2009, 9, 16, 0, 9, 29), utc_offset=None, time_zone=None, geo_enabled=False, lang=None, contributors_enabled=False, is_translator=False, profile_background_color='642D8B', profile_background_image_url='http://abs.twimg.com/images/themes/theme10/bg.gif', profile_background_image_url_https='https://abs.twimg.com/images/themes/theme10/bg.gif', profile_background_tile=True, profile_link_color='FF0000', profile_sidebar_border_color='65B0DA', profile_sidebar_fill_color='7AC3EE', profile_text_color='3D1957', profile_use_background_image=True, profile_image_url='http://pbs.twimg.com/profile_images/1426008873924759552/RuiPQCyq_normal.jpg', profile_image_url_https='https://pbs.twimg.com/profile_images/1426008873924759552/RuiPQCyq_normal.jpg', profile_banner_url='https://pbs.twimg.com/profile_banners/74599960/1628822046', default_profile=False, default_profile_image=False, following=False, follow_request_sent=None, notifications=None, withheld_in_countries=[]), geo=None, coordinates=None, place=None, contributors=None, retweeted_status=Status(_api=<tweepy.api.API object at 0x00000172C98A1520>, _json={'created_at': 'Tue Aug 24 20:43:09 +0000 2021', 'id': 1430269470782722061, 'id_str': '1430269470782722061', 'text': 'so who is saving manifest? @netflix is it you???? #SaveManifest', 'source': '<a href=\"http://twitter.com/download/android\" rel=\"nofollow\">Twitter for Android</a>', 'truncated': False, 'in_reply_to_status_id': None, 'in_reply_to_status_id_str': None, 'in_reply_to_user_id': None, 'in_reply_to_user_id_str': None, 'in_reply_to_screen_name': None, 'user': {'id': 343204852, 'id_str': '343204852', 'name': '𝓰𝓻𝓪𝓬𝓮', 'screen_name': 'unGRACEfullll', 'location': 'she/her', 'url': None, 'description': 'chinese gemini', 'translator_type': 'none', 'protected': False, 'verified': False, 'followers_count': 538, 'friends_count': 402, 'listed_count': 45, 'favourites_count': 105829, 'statuses_count': 23714, 'created_at': 'Wed Jul 27 06:28:17 +0000 2011', 'utc_offset': None, 'time_zone': None, 'geo_enabled': True, 'lang': None, 'contributors_enabled': False, 'is_translator': False, 'profile_background_color': 'C0DEED', 'profile_background_image_url': 'http://abs.twimg.com/images/themes/theme1/bg.png', 'profile_background_image_url_https': 'https://abs.twimg.com/images/themes/theme1/bg.png', 'profile_background_tile': False, 'profile_link_color': '0084B4', 'profile_sidebar_border_color': 'C0DEED', 'profile_sidebar_fill_color': 'DDEEF6', 'profile_text_color': '333333', 'profile_use_background_image': True, 'profile_image_url': 'http://pbs.twimg.com/profile_images/1396530555236360195/omiuR76j_normal.jpg', 'profile_image_url_https': 'https://pbs.twimg.com/profile_images/1396530555236360195/omiuR76j_normal.jpg', 'profile_banner_url': 'https://pbs.twimg.com/profile_banners/343204852/1621793851', 'default_profile': False, 'default_profile_image': False, 'following': None, 'follow_request_sent': None, 'notifications': None, 'withheld_in_countries': []}, 'geo': None, 'coordinates': None, 'place': None, 'contributors': None, 'is_quote_status': False, 'quote_count': 1, 'reply_count': 2, 'retweet_count': 6, 'favorite_count': 48, 'entities': {'hashtags': [{'text': 'SaveManifest', 'indices': [50, 63]}], 'urls': [], 'user_mentions': [{'screen_name': 'netflix', 'name': 'Netflix', 'id': 16573941, 'id_str': '16573941', 'indices': [27, 35]}], 'symbols': []}, 'favorited': False, 'retweeted': False, 'filter_level': 'low', 'lang': 'en'}, created_at=datetime.datetime(2021, 8, 24, 20, 43, 9), id=1430269470782722061, id_str='1430269470782722061', text='so who is saving manifest? @netflix is it you???? #SaveManifest', source='Twitter for Android', source_url='http://twitter.com/download/android', truncated=False, in_reply_to_status_id=None, in_reply_to_status_id_str=None, in_reply_to_user_id=None, in_reply_to_user_id_str=None, in_reply_to_screen_name=None, author=User(_api=<tweepy.api.API object at 0x00000172C98A1520>, _json={'id': 343204852, 'id_str': '343204852', 'name': '𝓰𝓻𝓪𝓬𝓮', 'screen_name': 'unGRACEfullll', 'location': 'she/her', 'url': None, 'description': 'chinese gemini', 'translator_type': 'none', 'protected': False, 'verified': False, 'followers_count': 538, 'friends_count': 402, 'listed_count': 45, 'favourites_count': 105829, 'statuses_count': 23714, 'created_at': 'Wed Jul 27 06:28:17 +0000 2011', 'utc_offset': None, 'time_zone': None, 'geo_enabled': True, 'lang': None, 'contributors_enabled': False, 'is_translator': False, 'profile_background_color': 'C0DEED', 'profile_background_image_url': 'http://abs.twimg.com/images/themes/theme1/bg.png', 'profile_background_image_url_https': 'https://abs.twimg.com/images/themes/theme1/bg.png', 'profile_background_tile': False, 'profile_link_color': '0084B4', 'profile_sidebar_border_color': 'C0DEED', 'profile_sidebar_fill_color': 'DDEEF6', 'profile_text_color': '333333', 'profile_use_background_image': True, 'profile_image_url': 'http://pbs.twimg.com/profile_images/1396530555236360195/omiuR76j_normal.jpg', 'profile_image_url_https': 'https://pbs.twimg.com/profile_images/1396530555236360195/omiuR76j_normal.jpg', 'profile_banner_url': 'https://pbs.twimg.com/profile_banners/343204852/1621793851', 'default_profile': False, 'default_profile_image': False, 'following': None, 'follow_request_sent': None, 'notifications': None, 'withheld_in_countries': []}, id=343204852, id_str='343204852', name='𝓰𝓻𝓪𝓬𝓮', screen_name='unGRACEfullll', location='she/her', url=None, description='chinese gemini', translator_type='none', protected=False, verified=False, followers_count=538, friends_count=402, listed_count=45, favourites_count=105829, statuses_count=23714, created_at=datetime.datetime(2011, 7, 27, 6, 28, 17), utc_offset=None, time_zone=None, geo_enabled=True, lang=None, contributors_enabled=False, is_translator=False, profile_background_color='C0DEED', profile_background_image_url='http://abs.twimg.com/images/themes/theme1/bg.png', profile_background_image_url_https='https://abs.twimg.com/images/themes/theme1/bg.png', profile_background_tile=False, profile_link_color='0084B4', profile_sidebar_border_color='C0DEED', profile_sidebar_fill_color='DDEEF6', profile_text_color='333333', profile_use_background_image=True, profile_image_url='http://pbs.twimg.com/profile_images/1396530555236360195/omiuR76j_normal.jpg', profile_image_url_https='https://pbs.twimg.com/profile_images/1396530555236360195/omiuR76j_normal.jpg', profile_banner_url='https://pbs.twimg.com/profile_banners/343204852/1621793851', default_profile=False, default_profile_image=False, following=False, follow_request_sent=None, notifications=None, withheld_in_countries=[]), user=User(_api=<tweepy.api.API object at 0x00000172C98A1520>, _json={'id': 343204852, 'id_str': '343204852', 'name': '𝓰𝓻𝓪𝓬𝓮', 'screen_name': 'unGRACEfullll', 'location': 'she/her', 'url': None, 'description': 'chinese gemini', 'translator_type': 'none', 'protected': False, 'verified': False, 'followers_count': 538, 'friends_count': 402, 'listed_count': 45, 'favourites_count': 105829, 'statuses_count': 23714, 'created_at': 'Wed Jul 27 06:28:17 +0000 2011', 'utc_offset': None, 'time_zone': None, 'geo_enabled': True, 'lang': None, 'contributors_enabled': False, 'is_translator': False, 'profile_background_color': 'C0DEED', 'profile_background_image_url': 'http://abs.twimg.com/images/themes/theme1/bg.png', 'profile_background_image_url_https': 'https://abs.twimg.com/images/themes/theme1/bg.png', 'profile_background_tile': False, 'profile_link_color': '0084B4', 'profile_sidebar_border_color': 'C0DEED', 'profile_sidebar_fill_color': 'DDEEF6', 'profile_text_color': '333333', 'profile_use_background_image': True, 'profile_image_url': 'http://pbs.twimg.com/profile_images/1396530555236360195/omiuR76j_normal.jpg', 'profile_image_url_https': 'https://pbs.twimg.com/profile_images/1396530555236360195/omiuR76j_normal.jpg', 'profile_banner_url': 'https://pbs.twimg.com/profile_banners/343204852/1621793851', 'default_profile': False, 'default_profile_image': False, 'following': None, 'follow_request_sent': None, 'notifications': None, 'withheld_in_countries': []}, id=343204852, id_str='343204852', name='𝓰𝓻𝓪𝓬𝓮', screen_name='unGRACEfullll', location='she/her', url=None, description='chinese gemini', translator_type='none', protected=False, verified=False, followers_count=538, friends_count=402, listed_count=45, favourites_count=105829, statuses_count=23714, created_at=datetime.datetime(2011, 7, 27, 6, 28, 17), utc_offset=None, time_zone=None, geo_enabled=True, lang=None, contributors_enabled=False, is_translator=False, profile_background_color='C0DEED', profile_background_image_url='http://abs.twimg.com/images/themes/theme1/bg.png', profile_background_image_url_https='https://abs.twimg.com/images/themes/theme1/bg.png', profile_background_tile=False, profile_link_color='0084B4', profile_sidebar_border_color='C0DEED', profile_sidebar_fill_color='DDEEF6', profile_text_color='333333', profile_use_background_image=True, profile_image_url='http://pbs.twimg.com/profile_images/1396530555236360195/omiuR76j_normal.jpg', profile_image_url_https='https://pbs.twimg.com/profile_images/1396530555236360195/omiuR76j_normal.jpg', profile_banner_url='https://pbs.twimg.com/profile_banners/343204852/1621793851', default_profile=False, default_profile_image=False, following=False, follow_request_sent=None, notifications=None, withheld_in_countries=[]), geo=None, coordinates=None, place=None, contributors=None, is_quote_status=False, quote_count=1, reply_count=2, retweet_count=6, favorite_count=48, entities={'hashtags': [{'text': 'SaveManifest', 'indices': [50, 63]}], 'urls': [], 'user_mentions': [{'screen_name': 'netflix', 'name': 'Netflix', 'id': 16573941, 'id_str': '16573941', 'indices': [27, 35]}], 'symbols': []}, favorited=False, retweeted=False, filter_level='low', lang='en'), is_quote_status=False, quote_count=0, reply_count=0, retweet_count=0, favorite_count=0, entities={'hashtags': [{'text': 'SaveManifest', 'indices': [69, 82]}], 'urls': [], 'user_mentions': [{'screen_name': 'unGRACEfullll', 'name': '𝓰𝓻𝓪𝓬𝓮', 'id': 343204852, 'id_str': '343204852', 'indices': [3, 17]}, {'screen_name': 'netflix', 'name': 'Netflix', 'id': 16573941, 'id_str': '16573941', 'indices': [46, 54]}], 'symbols': []}, favorited=False, retweeted=False, filter_level='low', lang='en', matching_rules=[{'tag': None}])\n",
      "Status(_api=<tweepy.api.API object at 0x00000172C98A1520>, _json={'created_at': 'Wed Aug 25 02:13:24 +0000 2021', 'id': 1430352581683941378, 'id_str': '1430352581683941378', 'text': '@MieBalap69 Netflix 🎬\\n\\nSHARING\\n• 1 hari : 3K\\n• 2 hari : 4K\\n• 3 hari : 7K\\n• 1 minggu : 15K\\n• 1 bulan : 40K\\n\\nPRIVATE… https://t.co/ier3pPzkO0', 'display_text_range': [12, 140], 'source': '<a href=\"http://twitter.com/download/android\" rel=\"nofollow\">Twitter for Android</a>', 'truncated': True, 'in_reply_to_status_id': 1430346937341865990, 'in_reply_to_status_id_str': '1430346937341865990', 'in_reply_to_user_id': 1298609328920752136, 'in_reply_to_user_id_str': '1298609328920752136', 'in_reply_to_screen_name': 'MieBalap69', 'user': {'id': 1203356189599264769, 'id_str': '1203356189599264769', 'name': 'Lily || jual Netflix, Spotify, acc kosongan', 'screen_name': 'vanlily_', 'location': 'not found. ', 'url': None, 'description': '@BTS_twt @Stray_Kids', 'translator_type': 'none', 'protected': False, 'verified': False, 'followers_count': 625, 'friends_count': 854, 'listed_count': 0, 'favourites_count': 11651, 'statuses_count': 15338, 'created_at': 'Sat Dec 07 16:51:22 +0000 2019', 'utc_offset': None, 'time_zone': None, 'geo_enabled': False, 'lang': None, 'contributors_enabled': False, 'is_translator': False, 'profile_background_color': 'F5F8FA', 'profile_background_image_url': '', 'profile_background_image_url_https': '', 'profile_background_tile': False, 'profile_link_color': '1DA1F2', 'profile_sidebar_border_color': 'C0DEED', 'profile_sidebar_fill_color': 'DDEEF6', 'profile_text_color': '333333', 'profile_use_background_image': True, 'profile_image_url': 'http://pbs.twimg.com/profile_images/1428898161213411329/j1hPv7uf_normal.png', 'profile_image_url_https': 'https://pbs.twimg.com/profile_images/1428898161213411329/j1hPv7uf_normal.png', 'profile_banner_url': 'https://pbs.twimg.com/profile_banners/1203356189599264769/1629215541', 'default_profile': True, 'default_profile_image': False, 'following': None, 'follow_request_sent': None, 'notifications': None, 'withheld_in_countries': []}, 'geo': None, 'coordinates': None, 'place': None, 'contributors': None, 'is_quote_status': False, 'extended_tweet': {'full_text': '@MieBalap69 Netflix 🎬\\n\\nSHARING\\n• 1 hari : 3K\\n• 2 hari : 4K\\n• 3 hari : 7K\\n• 1 minggu : 15K\\n• 1 bulan : 40K\\n\\nPRIVATE\\n• 1 bulan : 170K\\n\\n✅ bergaransi\\n✅ trusted\\n\\n💸 DANA, OVO, GOPAY, SPAY, QRIS\\n💌 DM / WA https://t.co/NEmNEtmu7M\\n\\nTesti? Cek pinned!', 'display_text_range': [12, 241], 'entities': {'hashtags': [], 'urls': [{'url': 'https://t.co/NEmNEtmu7M', 'expanded_url': 'https://bit.ly/3eRjeVM', 'display_url': 'bit.ly/3eRjeVM', 'indices': [198, 221]}], 'user_mentions': [{'screen_name': 'MieBalap69', 'name': '𝕃𝕒𝕝𝕒 𝕓𝕦𝕔𝕚𝕟 𝔸𝕦♡', 'id': 1298609328920752136, 'id_str': '1298609328920752136', 'indices': [0, 11]}], 'symbols': []}}, 'quote_count': 0, 'reply_count': 0, 'retweet_count': 0, 'favorite_count': 0, 'entities': {'hashtags': [], 'urls': [{'url': 'https://t.co/ier3pPzkO0', 'expanded_url': 'https://twitter.com/i/web/status/1430352581683941378', 'display_url': 'twitter.com/i/web/status/1…', 'indices': [116, 139]}], 'user_mentions': [{'screen_name': 'MieBalap69', 'name': '𝕃𝕒𝕝𝕒 𝕓𝕦𝕔𝕚𝕟 𝔸𝕦♡', 'id': 1298609328920752136, 'id_str': '1298609328920752136', 'indices': [0, 11]}], 'symbols': []}, 'favorited': False, 'retweeted': False, 'possibly_sensitive': False, 'filter_level': 'low', 'lang': 'in', 'matching_rules': [{'tag': None}]}, created_at=datetime.datetime(2021, 8, 25, 2, 13, 24), id=1430352581683941378, id_str='1430352581683941378', text='@MieBalap69 Netflix 🎬\\n\\nSHARING\\n• 1 hari : 3K\\n• 2 hari : 4K\\n• 3 hari : 7K\\n• 1 minggu : 15K\\n• 1 bulan : 40K\\n\\nPRIVATE… https://t.co/ier3pPzkO0', display_text_range=[12, 140], source='Twitter for Android', source_url='http://twitter.com/download/android', truncated=True, in_reply_to_status_id=1430346937341865990, in_reply_to_status_id_str='1430346937341865990', in_reply_to_user_id=1298609328920752136, in_reply_to_user_id_str='1298609328920752136', in_reply_to_screen_name='MieBalap69', author=User(_api=<tweepy.api.API object at 0x00000172C98A1520>, _json={'id': 1203356189599264769, 'id_str': '1203356189599264769', 'name': 'Lily || jual Netflix, Spotify, acc kosongan', 'screen_name': 'vanlily_', 'location': 'not found. ', 'url': None, 'description': '@BTS_twt @Stray_Kids', 'translator_type': 'none', 'protected': False, 'verified': False, 'followers_count': 625, 'friends_count': 854, 'listed_count': 0, 'favourites_count': 11651, 'statuses_count': 15338, 'created_at': 'Sat Dec 07 16:51:22 +0000 2019', 'utc_offset': None, 'time_zone': None, 'geo_enabled': False, 'lang': None, 'contributors_enabled': False, 'is_translator': False, 'profile_background_color': 'F5F8FA', 'profile_background_image_url': '', 'profile_background_image_url_https': '', 'profile_background_tile': False, 'profile_link_color': '1DA1F2', 'profile_sidebar_border_color': 'C0DEED', 'profile_sidebar_fill_color': 'DDEEF6', 'profile_text_color': '333333', 'profile_use_background_image': True, 'profile_image_url': 'http://pbs.twimg.com/profile_images/1428898161213411329/j1hPv7uf_normal.png', 'profile_image_url_https': 'https://pbs.twimg.com/profile_images/1428898161213411329/j1hPv7uf_normal.png', 'profile_banner_url': 'https://pbs.twimg.com/profile_banners/1203356189599264769/1629215541', 'default_profile': True, 'default_profile_image': False, 'following': None, 'follow_request_sent': None, 'notifications': None, 'withheld_in_countries': []}, id=1203356189599264769, id_str='1203356189599264769', name='Lily || jual Netflix, Spotify, acc kosongan', screen_name='vanlily_', location='not found. ', url=None, description='@BTS_twt @Stray_Kids', translator_type='none', protected=False, verified=False, followers_count=625, friends_count=854, listed_count=0, favourites_count=11651, statuses_count=15338, created_at=datetime.datetime(2019, 12, 7, 16, 51, 22), utc_offset=None, time_zone=None, geo_enabled=False, lang=None, contributors_enabled=False, is_translator=False, profile_background_color='F5F8FA', profile_background_image_url='', profile_background_image_url_https='', profile_background_tile=False, profile_link_color='1DA1F2', profile_sidebar_border_color='C0DEED', profile_sidebar_fill_color='DDEEF6', profile_text_color='333333', profile_use_background_image=True, profile_image_url='http://pbs.twimg.com/profile_images/1428898161213411329/j1hPv7uf_normal.png', profile_image_url_https='https://pbs.twimg.com/profile_images/1428898161213411329/j1hPv7uf_normal.png', profile_banner_url='https://pbs.twimg.com/profile_banners/1203356189599264769/1629215541', default_profile=True, default_profile_image=False, following=False, follow_request_sent=None, notifications=None, withheld_in_countries=[]), user=User(_api=<tweepy.api.API object at 0x00000172C98A1520>, _json={'id': 1203356189599264769, 'id_str': '1203356189599264769', 'name': 'Lily || jual Netflix, Spotify, acc kosongan', 'screen_name': 'vanlily_', 'location': 'not found. ', 'url': None, 'description': '@BTS_twt @Stray_Kids', 'translator_type': 'none', 'protected': False, 'verified': False, 'followers_count': 625, 'friends_count': 854, 'listed_count': 0, 'favourites_count': 11651, 'statuses_count': 15338, 'created_at': 'Sat Dec 07 16:51:22 +0000 2019', 'utc_offset': None, 'time_zone': None, 'geo_enabled': False, 'lang': None, 'contributors_enabled': False, 'is_translator': False, 'profile_background_color': 'F5F8FA', 'profile_background_image_url': '', 'profile_background_image_url_https': '', 'profile_background_tile': False, 'profile_link_color': '1DA1F2', 'profile_sidebar_border_color': 'C0DEED', 'profile_sidebar_fill_color': 'DDEEF6', 'profile_text_color': '333333', 'profile_use_background_image': True, 'profile_image_url': 'http://pbs.twimg.com/profile_images/1428898161213411329/j1hPv7uf_normal.png', 'profile_image_url_https': 'https://pbs.twimg.com/profile_images/1428898161213411329/j1hPv7uf_normal.png', 'profile_banner_url': 'https://pbs.twimg.com/profile_banners/1203356189599264769/1629215541', 'default_profile': True, 'default_profile_image': False, 'following': None, 'follow_request_sent': None, 'notifications': None, 'withheld_in_countries': []}, id=1203356189599264769, id_str='1203356189599264769', name='Lily || jual Netflix, Spotify, acc kosongan', screen_name='vanlily_', location='not found. ', url=None, description='@BTS_twt @Stray_Kids', translator_type='none', protected=False, verified=False, followers_count=625, friends_count=854, listed_count=0, favourites_count=11651, statuses_count=15338, created_at=datetime.datetime(2019, 12, 7, 16, 51, 22), utc_offset=None, time_zone=None, geo_enabled=False, lang=None, contributors_enabled=False, is_translator=False, profile_background_color='F5F8FA', profile_background_image_url='', profile_background_image_url_https='', profile_background_tile=False, profile_link_color='1DA1F2', profile_sidebar_border_color='C0DEED', profile_sidebar_fill_color='DDEEF6', profile_text_color='333333', profile_use_background_image=True, profile_image_url='http://pbs.twimg.com/profile_images/1428898161213411329/j1hPv7uf_normal.png', profile_image_url_https='https://pbs.twimg.com/profile_images/1428898161213411329/j1hPv7uf_normal.png', profile_banner_url='https://pbs.twimg.com/profile_banners/1203356189599264769/1629215541', default_profile=True, default_profile_image=False, following=False, follow_request_sent=None, notifications=None, withheld_in_countries=[]), geo=None, coordinates=None, place=None, contributors=None, is_quote_status=False, extended_tweet={'full_text': '@MieBalap69 Netflix 🎬\\n\\nSHARING\\n• 1 hari : 3K\\n• 2 hari : 4K\\n• 3 hari : 7K\\n• 1 minggu : 15K\\n• 1 bulan : 40K\\n\\nPRIVATE\\n• 1 bulan : 170K\\n\\n✅ bergaransi\\n✅ trusted\\n\\n💸 DANA, OVO, GOPAY, SPAY, QRIS\\n💌 DM / WA https://t.co/NEmNEtmu7M\\n\\nTesti? Cek pinned!', 'display_text_range': [12, 241], 'entities': {'hashtags': [], 'urls': [{'url': 'https://t.co/NEmNEtmu7M', 'expanded_url': 'https://bit.ly/3eRjeVM', 'display_url': 'bit.ly/3eRjeVM', 'indices': [198, 221]}], 'user_mentions': [{'screen_name': 'MieBalap69', 'name': '𝕃𝕒𝕝𝕒 𝕓𝕦𝕔𝕚𝕟 𝔸𝕦♡', 'id': 1298609328920752136, 'id_str': '1298609328920752136', 'indices': [0, 11]}], 'symbols': []}}, quote_count=0, reply_count=0, retweet_count=0, favorite_count=0, entities={'hashtags': [], 'urls': [{'url': 'https://t.co/ier3pPzkO0', 'expanded_url': 'https://twitter.com/i/web/status/1430352581683941378', 'display_url': 'twitter.com/i/web/status/1…', 'indices': [116, 139]}], 'user_mentions': [{'screen_name': 'MieBalap69', 'name': '𝕃𝕒𝕝𝕒 𝕓𝕦𝕔𝕚𝕟 𝔸𝕦♡', 'id': 1298609328920752136, 'id_str': '1298609328920752136', 'indices': [0, 11]}], 'symbols': []}, favorited=False, retweeted=False, possibly_sensitive=False, filter_level='low', lang='in', matching_rules=[{'tag': None}])\n"
     ]
    }
   ],
   "source": [
    "for tweet in tweets:\n",
    "    print(tweet)"
   ]
  },
  {
   "cell_type": "code",
   "execution_count": 20,
   "metadata": {
    "colab": {
     "base_uri": "https://localhost:8080/",
     "height": 340
    },
    "id": "qVDwZRGDC54F",
    "outputId": "a367fdd2-3f03-47be-a63f-aff43aa99342"
   },
   "outputs": [
    {
     "name": "stdout",
     "output_type": "stream",
     "text": [
      "<tweepy.cursor.Cursor object at 0x00000172C989E070>\n"
     ]
    },
    {
     "ename": "TypeError",
     "evalue": "'Cursor' object is not iterable",
     "output_type": "error",
     "traceback": [
      "\u001b[1;31m---------------------------------------------------------------------------\u001b[0m",
      "\u001b[1;31mTypeError\u001b[0m                                 Traceback (most recent call last)",
      "\u001b[1;32m<ipython-input-20-032309a4889b>\u001b[0m in \u001b[0;36m<module>\u001b[1;34m\u001b[0m\n\u001b[0;32m      1\u001b[0m \u001b[1;31m# Call functions to create dataframes\u001b[0m\u001b[1;33m\u001b[0m\u001b[1;33m\u001b[0m\u001b[1;33m\u001b[0m\u001b[0m\n\u001b[1;32m----> 2\u001b[1;33m \u001b[0mdf1\u001b[0m \u001b[1;33m=\u001b[0m \u001b[0mget_tweets\u001b[0m\u001b[1;33m(\u001b[0m\u001b[1;33m[\u001b[0m\u001b[1;34m'Paramount'\u001b[0m\u001b[1;33m]\u001b[0m\u001b[1;33m)\u001b[0m\u001b[1;33m\u001b[0m\u001b[1;33m\u001b[0m\u001b[0m\n\u001b[0m\u001b[0;32m      3\u001b[0m \u001b[1;31m# df2 = get_tweets(['Disney Plus'])\u001b[0m\u001b[1;33m\u001b[0m\u001b[1;33m\u001b[0m\u001b[1;33m\u001b[0m\u001b[0m\n\u001b[0;32m      4\u001b[0m \u001b[1;31m# df3 = get_tweets(['Amazon Prime Video'])\u001b[0m\u001b[1;33m\u001b[0m\u001b[1;33m\u001b[0m\u001b[1;33m\u001b[0m\u001b[0m\n\u001b[0;32m      5\u001b[0m \u001b[1;31m# df4 = get_tweets(['HBO Max'])\u001b[0m\u001b[1;33m\u001b[0m\u001b[1;33m\u001b[0m\u001b[1;33m\u001b[0m\u001b[0m\n",
      "\u001b[1;32m<ipython-input-19-3db005d71c71>\u001b[0m in \u001b[0;36mget_tweets\u001b[1;34m(search_words)\u001b[0m\n\u001b[0;32m     15\u001b[0m     \u001b[0mtweet_list\u001b[0m \u001b[1;33m=\u001b[0m \u001b[1;33m[\u001b[0m\u001b[1;33m]\u001b[0m\u001b[1;33m\u001b[0m\u001b[1;33m\u001b[0m\u001b[0m\n\u001b[0;32m     16\u001b[0m     \u001b[0mprint\u001b[0m \u001b[1;33m(\u001b[0m\u001b[0mtweets\u001b[0m\u001b[1;33m)\u001b[0m\u001b[1;33m\u001b[0m\u001b[1;33m\u001b[0m\u001b[0m\n\u001b[1;32m---> 17\u001b[1;33m     \u001b[1;32mfor\u001b[0m \u001b[0mtweet\u001b[0m \u001b[1;32min\u001b[0m \u001b[0mtweets\u001b[0m\u001b[1;33m:\u001b[0m\u001b[1;33m\u001b[0m\u001b[1;33m\u001b[0m\u001b[0m\n\u001b[0m\u001b[0;32m     18\u001b[0m       tweet_list.append([search_words[0],tweet.id, tweet.full_text, tweet.user.id, tweet.user.screen_name,tweet.created_at,\n\u001b[0;32m     19\u001b[0m                          \u001b[0mtweet\u001b[0m\u001b[1;33m.\u001b[0m\u001b[0mfavorite_count\u001b[0m\u001b[1;33m,\u001b[0m \u001b[0mtweet\u001b[0m\u001b[1;33m.\u001b[0m\u001b[0mretweet_count\u001b[0m\u001b[1;33m,\u001b[0m\u001b[0mtweet\u001b[0m\u001b[1;33m.\u001b[0m\u001b[0muser\u001b[0m\u001b[1;33m.\u001b[0m\u001b[0mverified\u001b[0m\u001b[1;33m,\u001b[0m\u001b[0mtweet\u001b[0m\u001b[1;33m.\u001b[0m\u001b[0muser\u001b[0m\u001b[1;33m.\u001b[0m\u001b[0mlocation\u001b[0m\u001b[1;33m,\u001b[0m\u001b[1;33m\u001b[0m\u001b[1;33m\u001b[0m\u001b[0m\n",
      "\u001b[1;31mTypeError\u001b[0m: 'Cursor' object is not iterable"
     ]
    }
   ],
   "source": [
    "# Call functions to create dataframes\n",
    "df1 = get_tweets(['Paramount'])\n",
    "# df2 = get_tweets(['Disney Plus'])\n",
    "# df3 = get_tweets(['Amazon Prime Video'])\n",
    "# df4 = get_tweets(['HBO Max'])\n",
    "# df5 = get_tweets(['Start'])\n",
    "# df6 = get_tweets(['Apple TV'])\n",
    "# df7 = get_tweets(['Netflix'])"
   ]
  },
  {
   "cell_type": "code",
   "execution_count": 11,
   "metadata": {},
   "outputs": [
    {
     "ename": "TypeError",
     "evalue": "search_full_archive() missing 1 required positional argument: 'environment_name'",
     "output_type": "error",
     "traceback": [
      "\u001b[1;31m---------------------------------------------------------------------------\u001b[0m",
      "\u001b[1;31mTypeError\u001b[0m                                 Traceback (most recent call last)",
      "\u001b[1;32m<ipython-input-11-7932f59febff>\u001b[0m in \u001b[0;36m<module>\u001b[1;34m\u001b[0m\n\u001b[0;32m      1\u001b[0m \u001b[0mframes\u001b[0m \u001b[1;33m=\u001b[0m \u001b[1;33m[\u001b[0m\u001b[1;33m]\u001b[0m\u001b[1;33m\u001b[0m\u001b[1;33m\u001b[0m\u001b[0m\n\u001b[0;32m      2\u001b[0m \u001b[1;32mfor\u001b[0m \u001b[0mkey_word\u001b[0m \u001b[1;32min\u001b[0m \u001b[0mkey_words\u001b[0m\u001b[1;33m:\u001b[0m\u001b[1;33m\u001b[0m\u001b[1;33m\u001b[0m\u001b[0m\n\u001b[1;32m----> 3\u001b[1;33m     \u001b[0mframes\u001b[0m\u001b[1;33m.\u001b[0m\u001b[0mappend\u001b[0m\u001b[1;33m(\u001b[0m\u001b[0mget_tweets\u001b[0m\u001b[1;33m(\u001b[0m\u001b[1;33m[\u001b[0m\u001b[0mkey_word\u001b[0m\u001b[1;33m]\u001b[0m\u001b[1;33m)\u001b[0m\u001b[1;33m)\u001b[0m\u001b[1;33m\u001b[0m\u001b[1;33m\u001b[0m\u001b[0m\n\u001b[0m",
      "\u001b[1;32m<ipython-input-10-9199d6646f70>\u001b[0m in \u001b[0;36mget_tweets\u001b[1;34m(search_words)\u001b[0m\n\u001b[0;32m     12\u001b[0m \u001b[1;33m\u001b[0m\u001b[0m\n\u001b[0;32m     13\u001b[0m     \u001b[0mtweet_list\u001b[0m \u001b[1;33m=\u001b[0m \u001b[1;33m[\u001b[0m\u001b[1;33m]\u001b[0m\u001b[1;33m\u001b[0m\u001b[1;33m\u001b[0m\u001b[0m\n\u001b[1;32m---> 14\u001b[1;33m     \u001b[1;32mfor\u001b[0m \u001b[0mtweet\u001b[0m \u001b[1;32min\u001b[0m \u001b[0mtweets\u001b[0m\u001b[1;33m:\u001b[0m\u001b[1;33m\u001b[0m\u001b[1;33m\u001b[0m\u001b[0m\n\u001b[0m\u001b[0;32m     15\u001b[0m       tweet_list.append([search_words[0],tweet.id, tweet.full_text, tweet.user.id, tweet.user.screen_name,tweet.created_at,\n\u001b[0;32m     16\u001b[0m                          \u001b[0mtweet\u001b[0m\u001b[1;33m.\u001b[0m\u001b[0mfavorite_count\u001b[0m\u001b[1;33m,\u001b[0m \u001b[0mtweet\u001b[0m\u001b[1;33m.\u001b[0m\u001b[0mretweet_count\u001b[0m\u001b[1;33m,\u001b[0m\u001b[0mtweet\u001b[0m\u001b[1;33m.\u001b[0m\u001b[0muser\u001b[0m\u001b[1;33m.\u001b[0m\u001b[0mverified\u001b[0m\u001b[1;33m,\u001b[0m\u001b[0mtweet\u001b[0m\u001b[1;33m.\u001b[0m\u001b[0muser\u001b[0m\u001b[1;33m.\u001b[0m\u001b[0mlocation\u001b[0m\u001b[1;33m,\u001b[0m\u001b[1;33m\u001b[0m\u001b[1;33m\u001b[0m\u001b[0m\n",
      "\u001b[1;32m~\\anaconda3\\lib\\site-packages\\tweepy\\cursor.py\u001b[0m in \u001b[0;36m__next__\u001b[1;34m(self)\u001b[0m\n\u001b[0;32m     49\u001b[0m \u001b[1;33m\u001b[0m\u001b[0m\n\u001b[0;32m     50\u001b[0m     \u001b[1;32mdef\u001b[0m \u001b[0m__next__\u001b[0m\u001b[1;33m(\u001b[0m\u001b[0mself\u001b[0m\u001b[1;33m)\u001b[0m\u001b[1;33m:\u001b[0m\u001b[1;33m\u001b[0m\u001b[1;33m\u001b[0m\u001b[0m\n\u001b[1;32m---> 51\u001b[1;33m         \u001b[1;32mreturn\u001b[0m \u001b[0mself\u001b[0m\u001b[1;33m.\u001b[0m\u001b[0mnext\u001b[0m\u001b[1;33m(\u001b[0m\u001b[1;33m)\u001b[0m\u001b[1;33m\u001b[0m\u001b[1;33m\u001b[0m\u001b[0m\n\u001b[0m\u001b[0;32m     52\u001b[0m \u001b[1;33m\u001b[0m\u001b[0m\n\u001b[0;32m     53\u001b[0m     \u001b[1;32mdef\u001b[0m \u001b[0mnext\u001b[0m\u001b[1;33m(\u001b[0m\u001b[0mself\u001b[0m\u001b[1;33m)\u001b[0m\u001b[1;33m:\u001b[0m\u001b[1;33m\u001b[0m\u001b[1;33m\u001b[0m\u001b[0m\n",
      "\u001b[1;32m~\\anaconda3\\lib\\site-packages\\tweepy\\cursor.py\u001b[0m in \u001b[0;36mnext\u001b[1;34m(self)\u001b[0m\n\u001b[0;32m    241\u001b[0m         \u001b[1;32mif\u001b[0m \u001b[0mself\u001b[0m\u001b[1;33m.\u001b[0m\u001b[0mcurrent_page\u001b[0m \u001b[1;32mis\u001b[0m \u001b[1;32mNone\u001b[0m \u001b[1;32mor\u001b[0m \u001b[0mself\u001b[0m\u001b[1;33m.\u001b[0m\u001b[0mpage_index\u001b[0m \u001b[1;33m==\u001b[0m \u001b[0mlen\u001b[0m\u001b[1;33m(\u001b[0m\u001b[0mself\u001b[0m\u001b[1;33m.\u001b[0m\u001b[0mcurrent_page\u001b[0m\u001b[1;33m)\u001b[0m \u001b[1;33m-\u001b[0m \u001b[1;36m1\u001b[0m\u001b[1;33m:\u001b[0m\u001b[1;33m\u001b[0m\u001b[1;33m\u001b[0m\u001b[0m\n\u001b[0;32m    242\u001b[0m             \u001b[1;31m# Reached end of current page, get the next page...\u001b[0m\u001b[1;33m\u001b[0m\u001b[1;33m\u001b[0m\u001b[1;33m\u001b[0m\u001b[0m\n\u001b[1;32m--> 243\u001b[1;33m             \u001b[0mself\u001b[0m\u001b[1;33m.\u001b[0m\u001b[0mcurrent_page\u001b[0m \u001b[1;33m=\u001b[0m \u001b[0mself\u001b[0m\u001b[1;33m.\u001b[0m\u001b[0mpage_iterator\u001b[0m\u001b[1;33m.\u001b[0m\u001b[0mnext\u001b[0m\u001b[1;33m(\u001b[0m\u001b[1;33m)\u001b[0m\u001b[1;33m\u001b[0m\u001b[1;33m\u001b[0m\u001b[0m\n\u001b[0m\u001b[0;32m    244\u001b[0m             \u001b[1;32mwhile\u001b[0m \u001b[0mlen\u001b[0m\u001b[1;33m(\u001b[0m\u001b[0mself\u001b[0m\u001b[1;33m.\u001b[0m\u001b[0mcurrent_page\u001b[0m\u001b[1;33m)\u001b[0m \u001b[1;33m==\u001b[0m \u001b[1;36m0\u001b[0m\u001b[1;33m:\u001b[0m\u001b[1;33m\u001b[0m\u001b[1;33m\u001b[0m\u001b[0m\n\u001b[0;32m    245\u001b[0m                 \u001b[0mself\u001b[0m\u001b[1;33m.\u001b[0m\u001b[0mcurrent_page\u001b[0m \u001b[1;33m=\u001b[0m \u001b[0mself\u001b[0m\u001b[1;33m.\u001b[0m\u001b[0mpage_iterator\u001b[0m\u001b[1;33m.\u001b[0m\u001b[0mnext\u001b[0m\u001b[1;33m(\u001b[0m\u001b[1;33m)\u001b[0m\u001b[1;33m\u001b[0m\u001b[1;33m\u001b[0m\u001b[0m\n",
      "\u001b[1;32m~\\anaconda3\\lib\\site-packages\\tweepy\\cursor.py\u001b[0m in \u001b[0;36mnext\u001b[1;34m(self)\u001b[0m\n\u001b[0;32m    214\u001b[0m         \u001b[1;32mif\u001b[0m \u001b[0mself\u001b[0m\u001b[1;33m.\u001b[0m\u001b[0mnext_token\u001b[0m \u001b[1;33m==\u001b[0m \u001b[1;33m-\u001b[0m\u001b[1;36m1\u001b[0m \u001b[1;32mor\u001b[0m \u001b[1;33m(\u001b[0m\u001b[0mself\u001b[0m\u001b[1;33m.\u001b[0m\u001b[0mlimit\u001b[0m \u001b[1;32mand\u001b[0m \u001b[0mself\u001b[0m\u001b[1;33m.\u001b[0m\u001b[0mpage_count\u001b[0m \u001b[1;33m==\u001b[0m \u001b[0mself\u001b[0m\u001b[1;33m.\u001b[0m\u001b[0mlimit\u001b[0m\u001b[1;33m)\u001b[0m\u001b[1;33m:\u001b[0m\u001b[1;33m\u001b[0m\u001b[1;33m\u001b[0m\u001b[0m\n\u001b[0;32m    215\u001b[0m             \u001b[1;32mraise\u001b[0m \u001b[0mStopIteration\u001b[0m\u001b[1;33m\u001b[0m\u001b[1;33m\u001b[0m\u001b[0m\n\u001b[1;32m--> 216\u001b[1;33m         \u001b[0mdata\u001b[0m \u001b[1;33m=\u001b[0m \u001b[0mself\u001b[0m\u001b[1;33m.\u001b[0m\u001b[0mmethod\u001b[0m\u001b[1;33m(\u001b[0m\u001b[0mnext\u001b[0m\u001b[1;33m=\u001b[0m\u001b[0mself\u001b[0m\u001b[1;33m.\u001b[0m\u001b[0mnext_token\u001b[0m\u001b[1;33m,\u001b[0m \u001b[0mreturn_cursors\u001b[0m\u001b[1;33m=\u001b[0m\u001b[1;32mTrue\u001b[0m\u001b[1;33m,\u001b[0m \u001b[1;33m*\u001b[0m\u001b[0mself\u001b[0m\u001b[1;33m.\u001b[0m\u001b[0margs\u001b[0m\u001b[1;33m,\u001b[0m \u001b[1;33m**\u001b[0m\u001b[0mself\u001b[0m\u001b[1;33m.\u001b[0m\u001b[0mkwargs\u001b[0m\u001b[1;33m)\u001b[0m\u001b[1;33m\u001b[0m\u001b[1;33m\u001b[0m\u001b[0m\n\u001b[0m\u001b[0;32m    217\u001b[0m         \u001b[0mself\u001b[0m\u001b[1;33m.\u001b[0m\u001b[0mpage_count\u001b[0m \u001b[1;33m+=\u001b[0m \u001b[1;36m1\u001b[0m\u001b[1;33m\u001b[0m\u001b[1;33m\u001b[0m\u001b[0m\n\u001b[0;32m    218\u001b[0m         \u001b[1;32mif\u001b[0m \u001b[0misinstance\u001b[0m\u001b[1;33m(\u001b[0m\u001b[0mdata\u001b[0m\u001b[1;33m,\u001b[0m \u001b[0mtuple\u001b[0m\u001b[1;33m)\u001b[0m\u001b[1;33m:\u001b[0m\u001b[1;33m\u001b[0m\u001b[1;33m\u001b[0m\u001b[0m\n",
      "\u001b[1;31mTypeError\u001b[0m: search_full_archive() missing 1 required positional argument: 'environment_name'"
     ]
    }
   ],
   "source": [
    "# frames = []\n",
    "# for key_word in key_words:\n",
    "#   frames.append(get_tweets([key_word]))\n"
   ]
  },
  {
   "cell_type": "code",
   "execution_count": 14,
   "metadata": {
    "id": "VSfUxEZTDOkA"
   },
   "outputs": [],
   "source": [
    "# Concatenate dataframe\n",
    "#frames = [df1, df2, df3, df4, df5, df6, df7]\n",
    "result = pd.concat(frames)"
   ]
  },
  {
   "cell_type": "code",
   "execution_count": 36,
   "metadata": {},
   "outputs": [
    {
     "data": {
      "text/html": [
       "<div>\n",
       "<style scoped>\n",
       "    .dataframe tbody tr th:only-of-type {\n",
       "        vertical-align: middle;\n",
       "    }\n",
       "\n",
       "    .dataframe tbody tr th {\n",
       "        vertical-align: top;\n",
       "    }\n",
       "\n",
       "    .dataframe thead th {\n",
       "        text-align: right;\n",
       "    }\n",
       "</style>\n",
       "<table border=\"1\" class=\"dataframe\">\n",
       "  <thead>\n",
       "    <tr style=\"text-align: right;\">\n",
       "      <th></th>\n",
       "      <th>key_word</th>\n",
       "      <th>id</th>\n",
       "      <th>tweet</th>\n",
       "      <th>user_id</th>\n",
       "      <th>user_name</th>\n",
       "      <th>date</th>\n",
       "      <th>like</th>\n",
       "      <th>retweet</th>\n",
       "      <th>verified</th>\n",
       "      <th>location</th>\n",
       "      <th>friends</th>\n",
       "      <th>followers</th>\n",
       "    </tr>\n",
       "  </thead>\n",
       "  <tbody>\n",
       "    <tr>\n",
       "      <th>0</th>\n",
       "      <td>Paramount</td>\n",
       "      <td>1427416473853648898</td>\n",
       "      <td>Edit: Cambio/intercambio cuenta o perfil de HB...</td>\n",
       "      <td>719268860877115392</td>\n",
       "      <td>dxlcve</td>\n",
       "      <td>2021-08-16 23:46:22</td>\n",
       "      <td>0</td>\n",
       "      <td>0</td>\n",
       "      <td>False</td>\n",
       "      <td></td>\n",
       "      <td>889</td>\n",
       "      <td>274</td>\n",
       "    </tr>\n",
       "    <tr>\n",
       "      <th>1</th>\n",
       "      <td>Paramount</td>\n",
       "      <td>1427416112149454849</td>\n",
       "      <td>me descargue Paramount+ solo para poder ver to...</td>\n",
       "      <td>809227934649217024</td>\n",
       "      <td>ConstanceOcampo</td>\n",
       "      <td>2021-08-16 23:44:55</td>\n",
       "      <td>0</td>\n",
       "      <td>0</td>\n",
       "      <td>False</td>\n",
       "      <td>Río Gallegos,Santa Cruz</td>\n",
       "      <td>117</td>\n",
       "      <td>91</td>\n",
       "    </tr>\n",
       "    <tr>\n",
       "      <th>2</th>\n",
       "      <td>Paramount</td>\n",
       "      <td>1427415689036500998</td>\n",
       "      <td>¡Los servicios de streaming mas populares del ...</td>\n",
       "      <td>751447936735842304</td>\n",
       "      <td>T19Joa</td>\n",
       "      <td>2021-08-16 23:43:15</td>\n",
       "      <td>19</td>\n",
       "      <td>2</td>\n",
       "      <td>False</td>\n",
       "      <td>Corto Maltese, Argentina</td>\n",
       "      <td>4325</td>\n",
       "      <td>1139</td>\n",
       "    </tr>\n",
       "    <tr>\n",
       "      <th>3</th>\n",
       "      <td>Paramount</td>\n",
       "      <td>1427415304599216137</td>\n",
       "      <td>@jhorsue Tengo Disney+, HBO Max, Apple TV+, Yo...</td>\n",
       "      <td>719268860877115392</td>\n",
       "      <td>dxlcve</td>\n",
       "      <td>2021-08-16 23:41:43</td>\n",
       "      <td>0</td>\n",
       "      <td>0</td>\n",
       "      <td>False</td>\n",
       "      <td></td>\n",
       "      <td>889</td>\n",
       "      <td>274</td>\n",
       "    </tr>\n",
       "    <tr>\n",
       "      <th>4</th>\n",
       "      <td>Paramount</td>\n",
       "      <td>1427415159958614022</td>\n",
       "      <td>@CableFibertel Hola, me suscribi a Paramount e...</td>\n",
       "      <td>301418013</td>\n",
       "      <td>Cinalas</td>\n",
       "      <td>2021-08-16 23:41:08</td>\n",
       "      <td>0</td>\n",
       "      <td>0</td>\n",
       "      <td>False</td>\n",
       "      <td>Argentina</td>\n",
       "      <td>394</td>\n",
       "      <td>40</td>\n",
       "    </tr>\n",
       "  </tbody>\n",
       "</table>\n",
       "</div>"
      ],
      "text/plain": [
       "    key_word                   id  \\\n",
       "0  Paramount  1427416473853648898   \n",
       "1  Paramount  1427416112149454849   \n",
       "2  Paramount  1427415689036500998   \n",
       "3  Paramount  1427415304599216137   \n",
       "4  Paramount  1427415159958614022   \n",
       "\n",
       "                                               tweet             user_id  \\\n",
       "0  Edit: Cambio/intercambio cuenta o perfil de HB...  719268860877115392   \n",
       "1  me descargue Paramount+ solo para poder ver to...  809227934649217024   \n",
       "2  ¡Los servicios de streaming mas populares del ...  751447936735842304   \n",
       "3  @jhorsue Tengo Disney+, HBO Max, Apple TV+, Yo...  719268860877115392   \n",
       "4  @CableFibertel Hola, me suscribi a Paramount e...           301418013   \n",
       "\n",
       "         user_name                date  like  retweet  verified  \\\n",
       "0           dxlcve 2021-08-16 23:46:22     0        0     False   \n",
       "1  ConstanceOcampo 2021-08-16 23:44:55     0        0     False   \n",
       "2           T19Joa 2021-08-16 23:43:15    19        2     False   \n",
       "3           dxlcve 2021-08-16 23:41:43     0        0     False   \n",
       "4          Cinalas 2021-08-16 23:41:08     0        0     False   \n",
       "\n",
       "                   location  friends  followers  \n",
       "0                                889        274  \n",
       "1   Río Gallegos,Santa Cruz      117         91  \n",
       "2  Corto Maltese, Argentina     4325       1139  \n",
       "3                                889        274  \n",
       "4                 Argentina      394         40  "
      ]
     },
     "execution_count": 36,
     "metadata": {},
     "output_type": "execute_result"
    }
   ],
   "source": [
    "result.head()"
   ]
  },
  {
   "cell_type": "code",
   "execution_count": 15,
   "metadata": {},
   "outputs": [
    {
     "data": {
      "text/html": [
       "<div>\n",
       "<style scoped>\n",
       "    .dataframe tbody tr th:only-of-type {\n",
       "        vertical-align: middle;\n",
       "    }\n",
       "\n",
       "    .dataframe tbody tr th {\n",
       "        vertical-align: top;\n",
       "    }\n",
       "\n",
       "    .dataframe thead th {\n",
       "        text-align: right;\n",
       "    }\n",
       "</style>\n",
       "<table border=\"1\" class=\"dataframe\">\n",
       "  <thead>\n",
       "    <tr style=\"text-align: right;\">\n",
       "      <th></th>\n",
       "      <th>tweet</th>\n",
       "      <th>user_id</th>\n",
       "      <th>date</th>\n",
       "      <th>key_word</th>\n",
       "      <th>like</th>\n",
       "      <th>retweet</th>\n",
       "    </tr>\n",
       "    <tr>\n",
       "      <th>id</th>\n",
       "      <th></th>\n",
       "      <th></th>\n",
       "      <th></th>\n",
       "      <th></th>\n",
       "      <th></th>\n",
       "      <th></th>\n",
       "    </tr>\n",
       "  </thead>\n",
       "  <tbody>\n",
       "    <tr>\n",
       "      <th>1427419895185256453</th>\n",
       "      <td>RT @BPINKLATINO: Hace un año,#JISOO fue anunci...</td>\n",
       "      <td>1394643704175079424</td>\n",
       "      <td>2021-08-16 23:59:57</td>\n",
       "      <td>Netflix</td>\n",
       "      <td>0</td>\n",
       "      <td>189</td>\n",
       "    </tr>\n",
       "    <tr>\n",
       "      <th>1427419819096281090</th>\n",
       "      <td>Che nadie me dice, vení a mirar Netflix y dorm...</td>\n",
       "      <td>1338336999099543555</td>\n",
       "      <td>2021-08-16 23:59:39</td>\n",
       "      <td>Netflix</td>\n",
       "      <td>0</td>\n",
       "      <td>0</td>\n",
       "    </tr>\n",
       "    <tr>\n",
       "      <th>1427419788884783109</th>\n",
       "      <td>RT @I_LUVKOOK: En un reality show en Netflix l...</td>\n",
       "      <td>1393848601110093826</td>\n",
       "      <td>2021-08-16 23:59:32</td>\n",
       "      <td>Netflix</td>\n",
       "      <td>0</td>\n",
       "      <td>107</td>\n",
       "    </tr>\n",
       "    <tr>\n",
       "      <th>1427419783167889412</th>\n",
       "      <td>RT @jossephvargas: No es parte de la escena de...</td>\n",
       "      <td>487562563</td>\n",
       "      <td>2021-08-16 23:59:31</td>\n",
       "      <td>Netflix</td>\n",
       "      <td>0</td>\n",
       "      <td>1</td>\n",
       "    </tr>\n",
       "    <tr>\n",
       "      <th>1427419774439546884</th>\n",
       "      <td>RT @lisiditore: Qué emoción ver a nuestros act...</td>\n",
       "      <td>41943590</td>\n",
       "      <td>2021-08-16 23:59:29</td>\n",
       "      <td>Netflix</td>\n",
       "      <td>0</td>\n",
       "      <td>1</td>\n",
       "    </tr>\n",
       "  </tbody>\n",
       "</table>\n",
       "</div>"
      ],
      "text/plain": [
       "                                                                 tweet  \\\n",
       "id                                                                       \n",
       "1427419895185256453  RT @BPINKLATINO: Hace un año,#JISOO fue anunci...   \n",
       "1427419819096281090  Che nadie me dice, vení a mirar Netflix y dorm...   \n",
       "1427419788884783109  RT @I_LUVKOOK: En un reality show en Netflix l...   \n",
       "1427419783167889412  RT @jossephvargas: No es parte de la escena de...   \n",
       "1427419774439546884  RT @lisiditore: Qué emoción ver a nuestros act...   \n",
       "\n",
       "                                 user_id                date key_word  like  \\\n",
       "id                                                                            \n",
       "1427419895185256453  1394643704175079424 2021-08-16 23:59:57  Netflix     0   \n",
       "1427419819096281090  1338336999099543555 2021-08-16 23:59:39  Netflix     0   \n",
       "1427419788884783109  1393848601110093826 2021-08-16 23:59:32  Netflix     0   \n",
       "1427419783167889412            487562563 2021-08-16 23:59:31  Netflix     0   \n",
       "1427419774439546884             41943590 2021-08-16 23:59:29  Netflix     0   \n",
       "\n",
       "                     retweet  \n",
       "id                            \n",
       "1427419895185256453      189  \n",
       "1427419819096281090        0  \n",
       "1427419788884783109      107  \n",
       "1427419783167889412        1  \n",
       "1427419774439546884        1  "
      ]
     },
     "execution_count": 15,
     "metadata": {},
     "output_type": "execute_result"
    }
   ],
   "source": [
    "tweet = result[['id','tweet','user_id','date','key_word','like','retweet']]\n",
    "tweet = tweet.drop_duplicates(subset=['id'])\n",
    "tweet = tweet.set_index('id')\n",
    "tweet.head()"
   ]
  },
  {
   "cell_type": "code",
   "execution_count": 16,
   "metadata": {},
   "outputs": [
    {
     "data": {
      "text/html": [
       "<div>\n",
       "<style scoped>\n",
       "    .dataframe tbody tr th:only-of-type {\n",
       "        vertical-align: middle;\n",
       "    }\n",
       "\n",
       "    .dataframe tbody tr th {\n",
       "        vertical-align: top;\n",
       "    }\n",
       "\n",
       "    .dataframe thead th {\n",
       "        text-align: right;\n",
       "    }\n",
       "</style>\n",
       "<table border=\"1\" class=\"dataframe\">\n",
       "  <thead>\n",
       "    <tr style=\"text-align: right;\">\n",
       "      <th></th>\n",
       "      <th>user_name</th>\n",
       "      <th>verified</th>\n",
       "      <th>location</th>\n",
       "      <th>friends</th>\n",
       "      <th>followers</th>\n",
       "    </tr>\n",
       "    <tr>\n",
       "      <th>user_id</th>\n",
       "      <th></th>\n",
       "      <th></th>\n",
       "      <th></th>\n",
       "      <th></th>\n",
       "      <th></th>\n",
       "    </tr>\n",
       "  </thead>\n",
       "  <tbody>\n",
       "    <tr>\n",
       "      <th>1394643704175079424</th>\n",
       "      <td>Chubiiii2</td>\n",
       "      <td>False</td>\n",
       "      <td></td>\n",
       "      <td>121</td>\n",
       "      <td>93</td>\n",
       "    </tr>\n",
       "    <tr>\n",
       "      <th>1338336999099543555</th>\n",
       "      <td>AlexAma60993970</td>\n",
       "      <td>False</td>\n",
       "      <td></td>\n",
       "      <td>62</td>\n",
       "      <td>51</td>\n",
       "    </tr>\n",
       "    <tr>\n",
       "      <th>1393848601110093826</th>\n",
       "      <td>Sophia63897059</td>\n",
       "      <td>False</td>\n",
       "      <td>Quito, Ecuador 🌠</td>\n",
       "      <td>1064</td>\n",
       "      <td>209</td>\n",
       "    </tr>\n",
       "    <tr>\n",
       "      <th>487562563</th>\n",
       "      <td>yiyoayo</td>\n",
       "      <td>False</td>\n",
       "      <td></td>\n",
       "      <td>1722</td>\n",
       "      <td>288</td>\n",
       "    </tr>\n",
       "    <tr>\n",
       "      <th>41943590</th>\n",
       "      <td>anjo_zelada</td>\n",
       "      <td>False</td>\n",
       "      <td>Aregua - Paraguay</td>\n",
       "      <td>1014</td>\n",
       "      <td>424</td>\n",
       "    </tr>\n",
       "  </tbody>\n",
       "</table>\n",
       "</div>"
      ],
      "text/plain": [
       "                           user_name  verified           location  friends  \\\n",
       "user_id                                                                      \n",
       "1394643704175079424        Chubiiii2     False                         121   \n",
       "1338336999099543555  AlexAma60993970     False                          62   \n",
       "1393848601110093826   Sophia63897059     False   Quito, Ecuador 🌠     1064   \n",
       "487562563                    yiyoayo     False                        1722   \n",
       "41943590                 anjo_zelada     False  Aregua - Paraguay     1014   \n",
       "\n",
       "                     followers  \n",
       "user_id                         \n",
       "1394643704175079424         93  \n",
       "1338336999099543555         51  \n",
       "1393848601110093826        209  \n",
       "487562563                  288  \n",
       "41943590                   424  "
      ]
     },
     "execution_count": 16,
     "metadata": {},
     "output_type": "execute_result"
    }
   ],
   "source": [
    "user = result[['user_id','user_name','verified','location', 'friends', 'followers']]\n",
    "user = user.drop_duplicates(subset=['user_id'])\n",
    "user = user.set_index('user_id')\n",
    "user.head()"
   ]
  }
 ],
 "metadata": {
  "colab": {
   "collapsed_sections": [],
   "name": "Copia de BBProyecto.ipynb",
   "provenance": []
  },
  "interpreter": {
   "hash": "c6403de82357b10d6b7479fc6891c6da4209b74d2a09875dc47678c235668d38"
  },
  "kernelspec": {
   "display_name": "Python 3",
   "language": "python",
   "name": "python3"
  },
  "language_info": {
   "codemirror_mode": {
    "name": "ipython",
    "version": 3
   },
   "file_extension": ".py",
   "mimetype": "text/x-python",
   "name": "python",
   "nbconvert_exporter": "python",
   "pygments_lexer": "ipython3",
   "version": "3.8.8"
  }
 },
 "nbformat": 4,
 "nbformat_minor": 1
}
